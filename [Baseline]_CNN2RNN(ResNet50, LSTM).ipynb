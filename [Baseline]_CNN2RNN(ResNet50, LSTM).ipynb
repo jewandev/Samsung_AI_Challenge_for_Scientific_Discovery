{
 "cells": [
  {
   "cell_type": "markdown",
   "metadata": {},
   "source": [
    "baseline.ipynb <br>\n",
    ".. ├ models <br>\n",
    ".. └ data <br>\n",
    ".... ├ train_sdf <br>\n",
    ".... ├ dev_sdf <br>\n",
    ".... ├ test_sdf <br>\n",
    ".... ├ train_imgs <br>\n",
    ".... ├ test_imgs <br>\n",
    ".... ├ sample_train.csv <br>\n",
    ".... ├ sample_test.csv <br>\n",
    ".... └ sample_submission.csv <br>"
   ]
  },
  {
   "cell_type": "markdown",
   "metadata": {},
   "source": [
    "## 사용 패키지"
   ]
  },
  {
   "cell_type": "code",
   "execution_count": 2,
   "metadata": {
    "id": "6opPu4z_p_wb"
   },
   "outputs": [],
   "source": [
    "import numpy as np\n",
    "import pandas as pd\n",
    "import matplotlib.pyplot as plt\n",
    "import cv2\n",
    "import rdkit\n",
    "from rdkit import Chem\n",
    "from rdkit.Chem import Draw\n",
    "from rdkit import RDLogger\n",
    "RDLogger.DisableLog('rdApp.*')\n",
    "from tqdm import tqdm\n",
    "\n",
    "import torch\n",
    "from torch import nn\n",
    "from torchvision import models\n",
    "from torch.utils.data import Dataset, DataLoader"
   ]
  },
  {
   "cell_type": "code",
   "execution_count": 3,
   "metadata": {},
   "outputs": [
    {
     "name": "stdout",
     "output_type": "stream",
     "text": [
      "numpy verison : 1.19.2\n",
      "pandas version : 1.1.5\n",
      "opencv version : 4.5.1\n",
      "rdkit version : 2020.03.3\n",
      "torch version : 1.9.0+cu111\n"
     ]
    }
   ],
   "source": [
    "print('numpy verison :', np.__version__)\n",
    "print('pandas version :', pd.__version__)\n",
    "print('opencv version :', cv2.__version__)\n",
    "print('rdkit version :', rdkit.__version__)\n",
    "print('torch version :', torch.__version__)"
   ]
  },
  {
   "cell_type": "markdown",
   "metadata": {},
   "source": [
    "## 데이터 로드"
   ]
  },
  {
   "cell_type": "code",
   "execution_count": 4,
   "metadata": {
    "id": "7WZfRhyfp_wd"
   },
   "outputs": [],
   "source": [
    "train = pd.read_csv('./data/train.csv')\n",
    "dev = pd.read_csv('./data/dev.csv')"
   ]
  },
  {
   "cell_type": "code",
   "execution_count": 5,
   "metadata": {
    "colab": {
     "base_uri": "https://localhost:8080/",
     "height": 204
    },
    "id": "X5msQrpxp_we",
    "outputId": "10b21289-3439-426b-a19f-cf084085cd43"
   },
   "outputs": [
    {
     "data": {
      "text/html": [
       "<div>\n",
       "<style scoped>\n",
       "    .dataframe tbody tr th:only-of-type {\n",
       "        vertical-align: middle;\n",
       "    }\n",
       "\n",
       "    .dataframe tbody tr th {\n",
       "        vertical-align: top;\n",
       "    }\n",
       "\n",
       "    .dataframe thead th {\n",
       "        text-align: right;\n",
       "    }\n",
       "</style>\n",
       "<table border=\"1\" class=\"dataframe\">\n",
       "  <thead>\n",
       "    <tr style=\"text-align: right;\">\n",
       "      <th></th>\n",
       "      <th>uid</th>\n",
       "      <th>SMILES</th>\n",
       "      <th>S1_energy(eV)</th>\n",
       "      <th>T1_energy(eV)</th>\n",
       "    </tr>\n",
       "  </thead>\n",
       "  <tbody>\n",
       "    <tr>\n",
       "      <th>0</th>\n",
       "      <td>train_0</td>\n",
       "      <td>CCC1CCCCN1C(=O)C(C)OC(=O)c1c(C)oc(-n2cccc2)c1C#N</td>\n",
       "      <td>4.6747</td>\n",
       "      <td>3.3809</td>\n",
       "    </tr>\n",
       "    <tr>\n",
       "      <th>1</th>\n",
       "      <td>train_1</td>\n",
       "      <td>COc1ccc(Oc2ccc(N3C(=S)NC(c4ccccn4)C3c3cc(C)n(-...</td>\n",
       "      <td>3.6617</td>\n",
       "      <td>3.4585</td>\n",
       "    </tr>\n",
       "    <tr>\n",
       "      <th>2</th>\n",
       "      <td>train_2</td>\n",
       "      <td>CC(=O)Nc1ccc(C(=O)[C@H](C)Sc2nnc(C3CCCCC3)o2)cc1</td>\n",
       "      <td>3.6420</td>\n",
       "      <td>3.1787</td>\n",
       "    </tr>\n",
       "    <tr>\n",
       "      <th>3</th>\n",
       "      <td>train_3</td>\n",
       "      <td>OC(CNC1CC1)CN1CCc2sccc2C1</td>\n",
       "      <td>4.8901</td>\n",
       "      <td>3.7847</td>\n",
       "    </tr>\n",
       "    <tr>\n",
       "      <th>4</th>\n",
       "      <td>train_4</td>\n",
       "      <td>CCNC(CCCC(F)(F)F)C1(OCC)CCOCC1</td>\n",
       "      <td>6.4967</td>\n",
       "      <td>6.2724</td>\n",
       "    </tr>\n",
       "  </tbody>\n",
       "</table>\n",
       "</div>"
      ],
      "text/plain": [
       "       uid                                             SMILES  S1_energy(eV)  \\\n",
       "0  train_0   CCC1CCCCN1C(=O)C(C)OC(=O)c1c(C)oc(-n2cccc2)c1C#N         4.6747   \n",
       "1  train_1  COc1ccc(Oc2ccc(N3C(=S)NC(c4ccccn4)C3c3cc(C)n(-...         3.6617   \n",
       "2  train_2   CC(=O)Nc1ccc(C(=O)[C@H](C)Sc2nnc(C3CCCCC3)o2)cc1         3.6420   \n",
       "3  train_3                          OC(CNC1CC1)CN1CCc2sccc2C1         4.8901   \n",
       "4  train_4                     CCNC(CCCC(F)(F)F)C1(OCC)CCOCC1         6.4967   \n",
       "\n",
       "   T1_energy(eV)  \n",
       "0         3.3809  \n",
       "1         3.4585  \n",
       "2         3.1787  \n",
       "3         3.7847  \n",
       "4         6.2724  "
      ]
     },
     "execution_count": 5,
     "metadata": {},
     "output_type": "execute_result"
    }
   ],
   "source": [
    "train.head()"
   ]
  },
  {
   "cell_type": "code",
   "execution_count": 6,
   "metadata": {},
   "outputs": [
    {
     "data": {
      "text/html": [
       "<div>\n",
       "<style scoped>\n",
       "    .dataframe tbody tr th:only-of-type {\n",
       "        vertical-align: middle;\n",
       "    }\n",
       "\n",
       "    .dataframe tbody tr th {\n",
       "        vertical-align: top;\n",
       "    }\n",
       "\n",
       "    .dataframe thead th {\n",
       "        text-align: right;\n",
       "    }\n",
       "</style>\n",
       "<table border=\"1\" class=\"dataframe\">\n",
       "  <thead>\n",
       "    <tr style=\"text-align: right;\">\n",
       "      <th></th>\n",
       "      <th>uid</th>\n",
       "      <th>SMILES</th>\n",
       "      <th>S1_energy(eV)</th>\n",
       "      <th>T1_energy(eV)</th>\n",
       "    </tr>\n",
       "  </thead>\n",
       "  <tbody>\n",
       "    <tr>\n",
       "      <th>0</th>\n",
       "      <td>dev_0</td>\n",
       "      <td>O=C1c2ccccc2C2(c3ccccc31)c1ccccc1N(c1ccc(-c3nc...</td>\n",
       "      <td>2.7609</td>\n",
       "      <td>2.7540</td>\n",
       "    </tr>\n",
       "    <tr>\n",
       "      <th>1</th>\n",
       "      <td>dev_1</td>\n",
       "      <td>Cc1cccc2c3ccccc3n(-c3ccc(-c4c(-c5ccccc5)c(C#N)...</td>\n",
       "      <td>3.0495</td>\n",
       "      <td>3.0163</td>\n",
       "    </tr>\n",
       "    <tr>\n",
       "      <th>2</th>\n",
       "      <td>dev_2</td>\n",
       "      <td>CC1(C)c2ccccc2-c2ccc(-c3c(F)c(F)c(-c4ccc5c(c4)...</td>\n",
       "      <td>2.8314</td>\n",
       "      <td>2.1412</td>\n",
       "    </tr>\n",
       "    <tr>\n",
       "      <th>3</th>\n",
       "      <td>dev_3</td>\n",
       "      <td>CC(C)(C)c1ccc2c(c1)B1c3cc(C(C)(C)C)ccc3Oc3cc(-...</td>\n",
       "      <td>3.1813</td>\n",
       "      <td>2.9424</td>\n",
       "    </tr>\n",
       "    <tr>\n",
       "      <th>4</th>\n",
       "      <td>dev_4</td>\n",
       "      <td>O=C1c2cc(-c3ccc4c(c3)c3ccccc3n4-c3ccccc3)ccc2S...</td>\n",
       "      <td>2.9559</td>\n",
       "      <td>2.7362</td>\n",
       "    </tr>\n",
       "  </tbody>\n",
       "</table>\n",
       "</div>"
      ],
      "text/plain": [
       "     uid                                             SMILES  S1_energy(eV)  \\\n",
       "0  dev_0  O=C1c2ccccc2C2(c3ccccc31)c1ccccc1N(c1ccc(-c3nc...         2.7609   \n",
       "1  dev_1  Cc1cccc2c3ccccc3n(-c3ccc(-c4c(-c5ccccc5)c(C#N)...         3.0495   \n",
       "2  dev_2  CC1(C)c2ccccc2-c2ccc(-c3c(F)c(F)c(-c4ccc5c(c4)...         2.8314   \n",
       "3  dev_3  CC(C)(C)c1ccc2c(c1)B1c3cc(C(C)(C)C)ccc3Oc3cc(-...         3.1813   \n",
       "4  dev_4  O=C1c2cc(-c3ccc4c(c3)c3ccccc3n4-c3ccccc3)ccc2S...         2.9559   \n",
       "\n",
       "   T1_energy(eV)  \n",
       "0         2.7540  \n",
       "1         3.0163  \n",
       "2         2.1412  \n",
       "3         2.9424  \n",
       "4         2.7362  "
      ]
     },
     "execution_count": 6,
     "metadata": {},
     "output_type": "execute_result"
    }
   ],
   "source": [
    "dev.head()"
   ]
  },
  {
   "cell_type": "code",
   "execution_count": 7,
   "metadata": {},
   "outputs": [],
   "source": [
    "train = pd.concat([train, dev])"
   ]
  },
  {
   "cell_type": "code",
   "execution_count": 8,
   "metadata": {
    "colab": {
     "base_uri": "https://localhost:8080/",
     "height": 265
    },
    "id": "t7K7Sfa7p_we",
    "outputId": "b12b94ab-7f2a-4a8b-8936-2436bdb029f7"
   },
   "outputs": [
    {
     "data": {
      "image/png": "[encoded data removed]",
      "text/plain": [
       "<Figure size 432x288 with 1 Axes>"
      ]
     },
     "metadata": {
      "needs_background": "light"
     },
     "output_type": "display_data"
    }
   ],
   "source": [
    "train['S1_energy(eV)'].hist(bins=100, alpha=0.5)\n",
    "train['T1_energy(eV)'].hist(bins=100, alpha=0.5)\n",
    "plt.show()"
   ]
  },
  {
   "cell_type": "markdown",
   "metadata": {},
   "source": [
    "## 데이터 전처리\n",
    "\n",
    "분자의 구조적 특성을 찾기 위해 SMILES와 분자구조 이미지를 사용하였습니다."
   ]
  },
  {
   "cell_type": "code",
   "execution_count": 8,
   "metadata": {
    "id": "9xl8YBTep_we"
   },
   "outputs": [
    {
     "name": "stderr",
     "output_type": "stream",
     "text": [
      "30345it [05:09, 98.12it/s] \n"
     ]
    }
   ],
   "source": [
    "for idx, row in tqdm(train.iterrows()):\n",
    "    file = row['uid']\n",
    "    smiles = row['SMILES']\n",
    "    m = Chem.MolFromSmiles(smiles)\n",
    "    if m != None:\n",
    "        img = Draw.MolToImage(m, size=(300,300))\n",
    "        img.save(f'data/train_imgs/{file}.png')"
   ]
  },
  {
   "cell_type": "code",
   "execution_count": 9,
   "metadata": {},
   "outputs": [
    {
     "data": {
      "image/png": "[encoded data removed]",
      "text/plain": [
       "<Figure size 432x288 with 1 Axes>"
      ]
     },
     "metadata": {
      "needs_background": "light"
     },
     "output_type": "display_data"
    }
   ],
   "source": [
    "sample_img = cv2.imread('./data/train_imgs/dev_0.png')\n",
    "plt.imshow(sample_img)\n",
    "plt.show()"
   ]
  },
  {
   "cell_type": "markdown",
   "metadata": {},
   "source": [
    "## 하이퍼파라미터"
   ]
  },
  {
   "cell_type": "code",
   "execution_count": 10,
   "metadata": {
    "id": "mBCHZd0Gp_wg"
   },
   "outputs": [],
   "source": [
    "device = torch.device(\"cuda:0\")\n",
    "BATCH_SIZE = 64\n",
    "EPOCHS = 25\n",
    "num_layers = 1\n",
    "dropout_rate = 0.1\n",
    "embedding_dim = 128\n",
    "learning_rate = 1e-4\n",
    "vision_pretrain = True\n",
    "save_path = f'./models/best_model.pt'"
   ]
  },
  {
   "cell_type": "markdown",
   "metadata": {},
   "source": [
    "## SMILES Tokenizing"
   ]
  },
  {
   "cell_type": "code",
   "execution_count": 11,
   "metadata": {
    "id": "XP7FhxPLp_wf"
   },
   "outputs": [],
   "source": [
    "class SMILES_Tokenizer():\n",
    "    def __init__(self, max_length):\n",
    "        self.txt2idx = {}\n",
    "        self.idx2txt = {}\n",
    "        self.max_length = max_length\n",
    "    \n",
    "    def fit(self, SMILES_list):\n",
    "        unique_char = set()\n",
    "        for smiles in SMILES_list:\n",
    "            for char in smiles:\n",
    "                unique_char.add(char)\n",
    "        unique_char = sorted(list(unique_char))\n",
    "        for i, char in enumerate(unique_char):\n",
    "            self.txt2idx[char]=i+2\n",
    "            self.idx2txt[i+2]=char\n",
    "            \n",
    "    def txt2seq(self, texts):\n",
    "        seqs = []\n",
    "        for text in tqdm(texts):\n",
    "            seq = [0]*self.max_length\n",
    "            for i, t in enumerate(text):\n",
    "                if i == self.max_length:\n",
    "                    break\n",
    "                try:\n",
    "                    seq[i] = self.txt2idx[t]\n",
    "                except:\n",
    "                    seq[i] = 1\n",
    "            seqs.append(seq)\n",
    "        return np.array(seqs)"
   ]
  },
  {
   "cell_type": "code",
   "execution_count": 12,
   "metadata": {
    "colab": {
     "base_uri": "https://localhost:8080/"
    },
    "id": "Aj9oVC7Xp_wf",
    "outputId": "46e31b71-ae36-4ed9-f182-d0d2f806fceb"
   },
   "outputs": [
    {
     "data": {
      "text/plain": [
       "265"
      ]
     },
     "execution_count": 12,
     "metadata": {},
     "output_type": "execute_result"
    }
   ],
   "source": [
    "max_len = train.SMILES.str.len().max()\n",
    "max_len"
   ]
  },
  {
   "cell_type": "code",
   "execution_count": 13,
   "metadata": {
    "id": "Xvo009bgp_wf"
   },
   "outputs": [],
   "source": [
    "tokenizer = SMILES_Tokenizer(max_len)\n",
    "tokenizer.fit(train.SMILES)"
   ]
  },
  {
   "cell_type": "code",
   "execution_count": 14,
   "metadata": {
    "colab": {
     "base_uri": "https://localhost:8080/"
    },
    "id": "v8TdltRhp_wf",
    "outputId": "62b78ec4-164d-4e35-ad03-d22ea01a83ad"
   },
   "outputs": [
    {
     "name": "stderr",
     "output_type": "stream",
     "text": [
      "100%|██████████| 30345/30345 [00:00<00:00, 131211.85it/s]\n"
     ]
    }
   ],
   "source": [
    "seqs = tokenizer.txt2seq(train.SMILES)\n",
    "labels = train[['S1_energy(eV)', 'T1_energy(eV)']].to_numpy()\n",
    "imgs = ('./data/train_imgs/'+train.uid+'.png').to_numpy()"
   ]
  },
  {
   "cell_type": "markdown",
   "metadata": {},
   "source": [
    "## 학습 데이터셋"
   ]
  },
  {
   "cell_type": "code",
   "execution_count": 15,
   "metadata": {
    "id": "DxosU_4Kp_wg"
   },
   "outputs": [],
   "source": [
    "from sklearn.utils import shuffle\n",
    "imgs, seqs, labels = shuffle(imgs, seqs, labels, random_state=42)"
   ]
  },
  {
   "cell_type": "code",
   "execution_count": 16,
   "metadata": {
    "id": "zuO0XB0Kp_wg"
   },
   "outputs": [],
   "source": [
    "train_imgs = imgs[:27000]\n",
    "train_seqs = seqs[:27000]\n",
    "train_labels = labels[:27000]\n",
    "val_imgs = imgs[27000:]\n",
    "val_seqs = seqs[27000:]\n",
    "val_labels = labels[27000:]"
   ]
  },
  {
   "cell_type": "code",
   "execution_count": 17,
   "metadata": {
    "colab": {
     "base_uri": "https://localhost:8080/"
    },
    "id": "4LFsNDNAp_wg",
    "outputId": "9c181d43-26f3-481f-d968-35062b2ece0d"
   },
   "outputs": [
    {
     "data": {
      "text/plain": [
       "((27000,), (27000, 265), (27000, 2), (3345,), (3345, 265), (3345, 2))"
      ]
     },
     "execution_count": 17,
     "metadata": {},
     "output_type": "execute_result"
    }
   ],
   "source": [
    "train_imgs.shape, train_seqs.shape, train_labels.shape, val_imgs.shape, val_seqs.shape, val_labels.shape"
   ]
  },
  {
   "cell_type": "code",
   "execution_count": 18,
   "metadata": {
    "id": "Ir5slCDRp_wg"
   },
   "outputs": [],
   "source": [
    "class CustomDataset(Dataset):\n",
    "    def __init__(self, imgs, seqs, labels=None, mode='train'):\n",
    "        self.mode = mode\n",
    "        self.imgs = imgs\n",
    "        self.seqs = seqs\n",
    "        if self.mode=='train':\n",
    "            self.labels = labels\n",
    "            \n",
    "    def __len__(self):\n",
    "        return len(self.imgs)\n",
    "    \n",
    "    def __getitem__(self, i):\n",
    "        img = cv2.imread(self.imgs[i]).astype(np.float32)/255\n",
    "        img = np.transpose(img, (2,0,1))\n",
    "        if self.mode == 'train':\n",
    "            return {\n",
    "                'img' : torch.tensor(img, dtype=torch.float32),\n",
    "                'seq' : torch.tensor(self.seqs[i], dtype=torch.long),\n",
    "                'label' : torch.tensor(self.labels[i], dtype=torch.float32)\n",
    "            }\n",
    "        else:\n",
    "            return {\n",
    "                'img' : torch.tensor(img, dtype=torch.float32),\n",
    "                'seq' : torch.tensor(self.seqs[i], dtype=torch.long),\n",
    "            }"
   ]
  },
  {
   "cell_type": "code",
   "execution_count": 19,
   "metadata": {
    "id": "GJfwH3Cop_wh"
   },
   "outputs": [],
   "source": [
    "train_dataset = CustomDataset(train_imgs, train_seqs, train_labels)\n",
    "val_dataset = CustomDataset(val_imgs, val_seqs, val_labels)\n",
    "\n",
    "train_dataloader = torch.utils.data.DataLoader(train_dataset, batch_size=BATCH_SIZE, num_workers=16, shuffle=True)\n",
    "val_dataloader = torch.utils.data.DataLoader(val_dataset, batch_size=BATCH_SIZE, num_workers=16, shuffle=True)"
   ]
  },
  {
   "cell_type": "code",
   "execution_count": 20,
   "metadata": {
    "id": "PmG7KpwYp_wh"
   },
   "outputs": [],
   "source": [
    "sample_batch = next(iter(train_dataloader))"
   ]
  },
  {
   "cell_type": "code",
   "execution_count": 21,
   "metadata": {
    "colab": {
     "base_uri": "https://localhost:8080/"
    },
    "id": "UBvSNtEop_wh",
    "outputId": "f5f23cd8-2daf-4ddb-daf1-fbdeb6080e6a"
   },
   "outputs": [
    {
     "data": {
      "text/plain": [
       "(torch.Size([64, 3, 300, 300]), torch.Size([64, 265]), torch.Size([64, 2]))"
      ]
     },
     "execution_count": 21,
     "metadata": {},
     "output_type": "execute_result"
    }
   ],
   "source": [
    "sample_batch['img'].size(), sample_batch['seq'].size(), sample_batch['label'].size()"
   ]
  },
  {
   "cell_type": "code",
   "execution_count": 22,
   "metadata": {
    "colab": {
     "base_uri": "https://localhost:8080/"
    },
    "id": "laCaLggBp_wh",
    "outputId": "128530c4-0d52-4893-e8b5-1186e9f0c5d7"
   },
   "outputs": [
    {
     "data": {
      "text/plain": [
       "(torch.float32, torch.int64, torch.float32)"
      ]
     },
     "execution_count": 22,
     "metadata": {},
     "output_type": "execute_result"
    }
   ],
   "source": [
    "sample_batch['img'].dtype, sample_batch['seq'].dtype, sample_batch['label'].dtype"
   ]
  },
  {
   "cell_type": "markdown",
   "metadata": {},
   "source": [
    "## 모델\n",
    "\n",
    "ResNet50에 LSTM을 연결한 CNN2RNN 모델"
   ]
  },
  {
   "cell_type": "code",
   "execution_count": 23,
   "metadata": {},
   "outputs": [],
   "source": [
    "class CNN_Encoder(nn.Module):\n",
    "    def __init__(self, embedding_dim, rate):\n",
    "        super(CNN_Encoder, self).__init__()\n",
    "        model = models.resnet50(pretrained=vision_pretrain)\n",
    "        modules = list(model.children())[:-2]\n",
    "        self.feature_extract_model = nn.Sequential(*modules)\n",
    "        self.dropout1 = nn.Dropout(rate)\n",
    "        self.fc = nn.Linear(2048, embedding_dim)\n",
    "        self.dropout2 = nn.Dropout(rate)\n",
    "        \n",
    "    def forward(self, x):\n",
    "        x = self.feature_extract_model(x)\n",
    "        x = x.permute(0,2,3,1)\n",
    "        x = x.view(x.size(0), -1, x.size(3))\n",
    "        x = self.dropout1(x)\n",
    "        x = nn.ReLU()(self.fc(x))\n",
    "        x = self.dropout2(x)\n",
    "        return x"
   ]
  },
  {
   "cell_type": "code",
   "execution_count": 24,
   "metadata": {},
   "outputs": [],
   "source": [
    "class RNN_Decoder(nn.Module):\n",
    "    def __init__(self, max_len, embedding_dim, num_layers, rate):\n",
    "        super(RNN_Decoder, self).__init__()\n",
    "        self.embedding = nn.Embedding(max_len, embedding_dim)\n",
    "        self.dropout = nn.Dropout(rate)\n",
    "        self.lstm = nn.LSTM(embedding_dim, embedding_dim, num_layers)\n",
    "        self.final_layer = nn.Linear((max_len+100)*embedding_dim, 2)\n",
    "\n",
    "    def forward(self, enc_out, dec_inp):\n",
    "        embedded = self.embedding(dec_inp)\n",
    "        embedded = self.dropout(embedded)\n",
    "        embedded = torch.cat([enc_out, embedded], dim=1)\n",
    "        hidden, _ = self.lstm(embedded)\n",
    "        hidden = hidden.view(hidden.size(0), -1)\n",
    "        output = nn.ReLU()(self.final_layer(hidden))\n",
    "        return output"
   ]
  },
  {
   "cell_type": "code",
   "execution_count": 25,
   "metadata": {},
   "outputs": [],
   "source": [
    "class CNN2RNN(nn.Module):\n",
    "    def __init__(self, embedding_dim, max_len, num_layers, rate):\n",
    "        super(CNN2RNN, self).__init__()\n",
    "        self.cnn = CNN_Encoder(embedding_dim, rate)\n",
    "        self.rnn = RNN_Decoder(max_len, embedding_dim, num_layers, rate)\n",
    "        \n",
    "    def forward(self, img, seq):\n",
    "        cnn_output = self.cnn(img)\n",
    "        output = self.rnn(cnn_output, seq)\n",
    "        \n",
    "        return output"
   ]
  },
  {
   "cell_type": "code",
   "execution_count": 26,
   "metadata": {},
   "outputs": [],
   "source": [
    "model = CNN2RNN(embedding_dim=embedding_dim, max_len=max_len, num_layers=num_layers, rate=dropout_rate)\n",
    "model = model.to(device)"
   ]
  },
  {
   "cell_type": "markdown",
   "metadata": {},
   "source": [
    "## 학습 정의"
   ]
  },
  {
   "cell_type": "code",
   "execution_count": 27,
   "metadata": {
    "id": "5C_GVYbcp_wl"
   },
   "outputs": [],
   "source": [
    "optimizer = torch.optim.Adam(model.parameters(), lr=learning_rate)\n",
    "criterion = nn.L1Loss()"
   ]
  },
  {
   "cell_type": "code",
   "execution_count": 28,
   "metadata": {
    "id": "2-jW8B5qp_wm"
   },
   "outputs": [],
   "source": [
    "def train_step(batch_item, epoch, batch, training):\n",
    "    img = batch_item['img'].to(device)\n",
    "    seq = batch_item['seq'].to(device)\n",
    "    label = batch_item['label'].to(device)\n",
    "    if training is True:\n",
    "        model.train()\n",
    "        optimizer.zero_grad()\n",
    "        with torch.cuda.amp.autocast():\n",
    "            output = model(img, seq)\n",
    "            loss = criterion(output, label)\n",
    "        loss.backward()\n",
    "        optimizer.step()\n",
    "        \n",
    "        return loss\n",
    "    else:\n",
    "        model.eval()\n",
    "        with torch.no_grad():\n",
    "            output = model(img, seq)\n",
    "            loss = criterion(output, label)\n",
    "            \n",
    "        return loss"
   ]
  },
  {
   "cell_type": "markdown",
   "metadata": {},
   "source": [
    "## 학습"
   ]
  },
  {
   "cell_type": "code",
   "execution_count": 29,
   "metadata": {
    "colab": {
     "base_uri": "https://localhost:8080/"
    },
    "id": "Z53hB3qLp_wm",
    "outputId": "046429b7-2791-4bfe-cbfc-22cc8f7f49e8"
   },
   "outputs": [
    {
     "name": "stderr",
     "output_type": "stream",
     "text": [
      "0it [00:00, ?it/s]/home/dacon/anaconda3/envs/eunil/lib/python3.6/site-packages/torch/nn/functional.py:718: UserWarning: Named tensors and all their associated APIs are an experimental feature and subject to change. Please do not use them for anything important until they are released as stable. (Triggered internally at  /pytorch/c10/core/TensorImpl.h:1156.)\n",
      "  return torch.max_pool2d(input, kernel_size, stride, padding, dilation, ceil_mode)\n",
      "422it [01:23,  5.06it/s, Epoch=1, Loss=0.439201, Total Loss=0.458364]\n",
      "53it [00:06,  7.65it/s, Epoch=1, Val Loss=0.470463, Total Val Loss=0.351248]\n",
      "422it [01:23,  5.06it/s, Epoch=2, Loss=0.298600, Total Loss=0.324417]\n",
      "53it [00:06,  8.14it/s, Epoch=2, Val Loss=0.362490, Total Val Loss=0.301982]\n",
      "422it [01:23,  5.08it/s, Epoch=3, Loss=0.243750, Total Loss=0.288528]\n",
      "53it [00:06,  8.17it/s, Epoch=3, Val Loss=0.295448, Total Val Loss=0.282145]\n",
      "422it [01:23,  5.06it/s, Epoch=4, Loss=0.318637, Total Loss=0.260023]\n",
      "53it [00:06,  8.25it/s, Epoch=4, Val Loss=0.244550, Total Val Loss=0.310001]\n",
      "422it [01:24,  5.01it/s, Epoch=5, Loss=0.277866, Total Loss=0.240724]\n",
      "53it [00:06,  7.98it/s, Epoch=5, Val Loss=0.228583, Total Val Loss=0.275173]\n",
      "422it [01:22,  5.09it/s, Epoch=6, Loss=0.231880, Total Loss=0.224385]\n",
      "53it [00:06,  8.30it/s, Epoch=6, Val Loss=0.306029, Total Val Loss=0.266074]\n",
      "422it [01:22,  5.14it/s, Epoch=7, Loss=0.200484, Total Loss=0.208342]\n",
      "53it [00:06,  8.03it/s, Epoch=7, Val Loss=0.209388, Total Val Loss=0.294457]\n",
      "422it [01:23,  5.07it/s, Epoch=8, Loss=0.187453, Total Loss=0.194559]\n",
      "53it [00:06,  7.76it/s, Epoch=8, Val Loss=0.279481, Total Val Loss=0.338601]\n",
      "422it [01:23,  5.07it/s, Epoch=9, Loss=0.134658, Total Loss=0.182668]\n",
      "53it [00:06,  8.10it/s, Epoch=9, Val Loss=0.227295, Total Val Loss=0.252158]\n",
      "422it [01:23,  5.04it/s, Epoch=10, Loss=0.132557, Total Loss=0.171843]\n",
      "53it [00:06,  8.41it/s, Epoch=10, Val Loss=0.250215, Total Val Loss=0.294566]\n",
      "422it [01:22,  5.13it/s, Epoch=11, Loss=0.160149, Total Loss=0.161351]\n",
      "53it [00:06,  8.12it/s, Epoch=11, Val Loss=0.317892, Total Val Loss=0.268080]\n",
      "422it [01:23,  5.06it/s, Epoch=12, Loss=0.138100, Total Loss=0.155597]\n",
      "53it [00:06,  8.55it/s, Epoch=12, Val Loss=0.237411, Total Val Loss=0.247806]\n",
      "422it [01:20,  5.27it/s, Epoch=13, Loss=0.153715, Total Loss=0.146614]\n",
      "53it [00:06,  8.51it/s, Epoch=13, Val Loss=0.211212, Total Val Loss=0.272076]\n",
      "422it [01:19,  5.32it/s, Epoch=14, Loss=0.160548, Total Loss=0.137508]\n",
      "53it [00:06,  8.62it/s, Epoch=14, Val Loss=0.372992, Total Val Loss=0.245588]\n",
      "422it [01:19,  5.31it/s, Epoch=15, Loss=0.166374, Total Loss=0.131934]\n",
      "53it [00:06,  8.45it/s, Epoch=15, Val Loss=0.313635, Total Val Loss=0.271540]\n",
      "422it [01:19,  5.30it/s, Epoch=16, Loss=0.103724, Total Loss=0.128532]\n",
      "53it [00:06,  8.64it/s, Epoch=16, Val Loss=0.243658, Total Val Loss=0.256830]\n",
      "422it [01:19,  5.33it/s, Epoch=17, Loss=0.125244, Total Loss=0.124310]\n",
      "53it [00:06,  8.60it/s, Epoch=17, Val Loss=0.208302, Total Val Loss=0.251605]\n",
      "422it [01:19,  5.32it/s, Epoch=18, Loss=0.122779, Total Loss=0.119355]\n",
      "53it [00:06,  8.47it/s, Epoch=18, Val Loss=0.274695, Total Val Loss=0.268491]\n",
      "422it [01:19,  5.31it/s, Epoch=19, Loss=0.126241, Total Loss=0.116263]\n",
      "53it [00:06,  8.59it/s, Epoch=19, Val Loss=0.206575, Total Val Loss=0.235731]\n",
      "422it [01:19,  5.31it/s, Epoch=20, Loss=0.092077, Total Loss=0.110422]\n",
      "53it [00:06,  8.56it/s, Epoch=20, Val Loss=0.299275, Total Val Loss=0.235353]\n",
      "422it [01:19,  5.34it/s, Epoch=21, Loss=0.094756, Total Loss=0.106544]\n",
      "53it [00:06,  8.67it/s, Epoch=21, Val Loss=0.172702, Total Val Loss=0.252394]\n",
      "422it [01:18,  5.39it/s, Epoch=22, Loss=0.097638, Total Loss=0.103377]\n",
      "53it [00:06,  8.69it/s, Epoch=22, Val Loss=0.219943, Total Val Loss=0.245923]\n",
      "422it [01:18,  5.36it/s, Epoch=23, Loss=0.090393, Total Loss=0.101483]\n",
      "53it [00:06,  8.71it/s, Epoch=23, Val Loss=0.174042, Total Val Loss=0.241351]\n",
      "422it [01:18,  5.37it/s, Epoch=24, Loss=0.097816, Total Loss=0.097200]\n",
      "53it [00:06,  8.52it/s, Epoch=24, Val Loss=0.267394, Total Val Loss=0.234775]\n",
      "422it [01:18,  5.37it/s, Epoch=25, Loss=0.101546, Total Loss=0.096885]\n",
      "53it [00:06,  8.76it/s, Epoch=25, Val Loss=0.180897, Total Val Loss=0.231103]\n"
     ]
    }
   ],
   "source": [
    "loss_plot, val_loss_plot = [], []\n",
    "\n",
    "for epoch in range(EPOCHS):\n",
    "    total_loss, total_val_loss = 0, 0\n",
    "    \n",
    "    tqdm_dataset = tqdm(enumerate(train_dataloader))\n",
    "    training = True\n",
    "    for batch, batch_item in tqdm_dataset:\n",
    "        batch_loss = train_step(batch_item, epoch, batch, training)\n",
    "        total_loss += batch_loss\n",
    "        \n",
    "        tqdm_dataset.set_postfix({\n",
    "            'Epoch': epoch + 1,\n",
    "            'Loss': '{:06f}'.format(batch_loss.item()),\n",
    "            'Total Loss' : '{:06f}'.format(total_loss/(batch+1))\n",
    "        })\n",
    "    loss_plot.append(total_loss/(batch+1))\n",
    "    \n",
    "    tqdm_dataset = tqdm(enumerate(val_dataloader))\n",
    "    training = False\n",
    "    for batch, batch_item in tqdm_dataset:\n",
    "        batch_loss = train_step(batch_item, epoch, batch, training)\n",
    "        total_val_loss += batch_loss\n",
    "        \n",
    "        tqdm_dataset.set_postfix({\n",
    "            'Epoch': epoch + 1,\n",
    "            'Val Loss': '{:06f}'.format(batch_loss.item()),\n",
    "            'Total Val Loss' : '{:06f}'.format(total_val_loss/(batch+1))\n",
    "        })\n",
    "    val_loss_plot.append(total_val_loss/(batch+1))\n",
    "    \n",
    "    if np.min(val_loss_plot) == val_loss_plot[-1]:\n",
    "        torch.save(model, save_path)"
   ]
  },
  {
   "cell_type": "markdown",
   "metadata": {},
   "source": [
    "## 학습 결과"
   ]
  },
  {
   "cell_type": "code",
   "execution_count": 30,
   "metadata": {
    "id": "mn7sFqbSO4ag"
   },
   "outputs": [
    {
     "data": {
      "image/png": "[encoded data removed]",
      "text/plain": [
       "<Figure size 432x288 with 1 Axes>"
      ]
     },
     "metadata": {
      "needs_background": "light"
     },
     "output_type": "display_data"
    }
   ],
   "source": [
    "plt.plot(loss_plot, label='train_loss')\n",
    "plt.plot(val_loss_plot, label='val_loss')\n",
    "plt.xlabel('epoch')\n",
    "plt.ylabel('loss(mae)')\n",
    "plt.legend()\n",
    "plt.show()"
   ]
  },
  {
   "cell_type": "markdown",
   "metadata": {},
   "source": [
    "## 모델 복원"
   ]
  },
  {
   "cell_type": "code",
   "execution_count": 31,
   "metadata": {},
   "outputs": [],
   "source": [
    "model = torch.load(save_path)"
   ]
  },
  {
   "cell_type": "markdown",
   "metadata": {},
   "source": [
    "## 테스트 데이터 및 제출 양식 로드"
   ]
  },
  {
   "cell_type": "code",
   "execution_count": 33,
   "metadata": {},
   "outputs": [],
   "source": [
    "test = pd.read_csv('./data/test.csv')\n",
    "submission = pd.read_csv('./data/sample_submission.csv')"
   ]
  },
  {
   "cell_type": "markdown",
   "metadata": {},
   "source": [
    "## 테스트 데이터 전처리"
   ]
  },
  {
   "cell_type": "code",
   "execution_count": 34,
   "metadata": {},
   "outputs": [
    {
     "name": "stderr",
     "output_type": "stream",
     "text": [
      "602it [00:05, 101.94it/s]\n"
     ]
    }
   ],
   "source": [
    "for idx, row in tqdm(test.iterrows()):\n",
    "    file = row['uid']\n",
    "    smiles = row['SMILES']\n",
    "    m = Chem.MolFromSmiles(smiles)\n",
    "    if m != None:\n",
    "        img = Draw.MolToImage(m, size=(300,300))\n",
    "        img.save(f'./data/test_imgs/{file}.png')"
   ]
  },
  {
   "cell_type": "markdown",
   "metadata": {},
   "source": [
    "## 테스트 데이터셋"
   ]
  },
  {
   "cell_type": "code",
   "execution_count": 35,
   "metadata": {},
   "outputs": [
    {
     "name": "stderr",
     "output_type": "stream",
     "text": [
      "100%|██████████| 602/602 [00:00<00:00, 49391.08it/s]\n"
     ]
    }
   ],
   "source": [
    "test_seqs = tokenizer.txt2seq(test.SMILES)\n",
    "test_imgs = ('./data/test_imgs/'+test.uid+'.png').to_numpy()"
   ]
  },
  {
   "cell_type": "code",
   "execution_count": 36,
   "metadata": {},
   "outputs": [],
   "source": [
    "test_dataset = CustomDataset(imgs=test_imgs, seqs=test_seqs, labels=None, mode='test')\n",
    "test_dataloader = torch.utils.data.DataLoader(test_dataset, batch_size=BATCH_SIZE, num_workers=16)"
   ]
  },
  {
   "cell_type": "markdown",
   "metadata": {},
   "source": [
    "## 추론 및 제출"
   ]
  },
  {
   "cell_type": "code",
   "execution_count": 37,
   "metadata": {},
   "outputs": [],
   "source": [
    "def predict(dataset):\n",
    "    model.eval()\n",
    "    result = []\n",
    "    for batch_item in dataset:\n",
    "        img = batch_item['img'].to(device)\n",
    "        seq = batch_item['seq'].to(device)\n",
    "        with torch.no_grad():\n",
    "            output = model(img, seq)\n",
    "        output = output.cpu().numpy()\n",
    "        gap = output[:, 0] - output[:, 1]\n",
    "        gap = np.where(gap<0, 0, gap)\n",
    "        result.extend(list(gap))\n",
    "        \n",
    "    return result"
   ]
  },
  {
   "cell_type": "code",
   "execution_count": 38,
   "metadata": {},
   "outputs": [],
   "source": [
    "pred = predict(test_dataloader)"
   ]
  },
  {
   "cell_type": "code",
   "execution_count": 39,
   "metadata": {},
   "outputs": [],
   "source": [
    "submission['ST1_GAP(eV)'] = pred"
   ]
  },
  {
   "cell_type": "code",
   "execution_count": 40,
   "metadata": {},
   "outputs": [
    {
     "data": {
      "text/html": [
       "<div>\n",
       "<style scoped>\n",
       "    .dataframe tbody tr th:only-of-type {\n",
       "        vertical-align: middle;\n",
       "    }\n",
       "\n",
       "    .dataframe tbody tr th {\n",
       "        vertical-align: top;\n",
       "    }\n",
       "\n",
       "    .dataframe thead th {\n",
       "        text-align: right;\n",
       "    }\n",
       "</style>\n",
       "<table border=\"1\" class=\"dataframe\">\n",
       "  <thead>\n",
       "    <tr style=\"text-align: right;\">\n",
       "      <th></th>\n",
       "      <th>uid</th>\n",
       "      <th>ST1_GAP(eV)</th>\n",
       "    </tr>\n",
       "  </thead>\n",
       "  <tbody>\n",
       "    <tr>\n",
       "      <th>0</th>\n",
       "      <td>test_0</td>\n",
       "      <td>0.989016</td>\n",
       "    </tr>\n",
       "    <tr>\n",
       "      <th>1</th>\n",
       "      <td>test_1</td>\n",
       "      <td>2.448923</td>\n",
       "    </tr>\n",
       "    <tr>\n",
       "      <th>2</th>\n",
       "      <td>test_2</td>\n",
       "      <td>1.152864</td>\n",
       "    </tr>\n",
       "    <tr>\n",
       "      <th>3</th>\n",
       "      <td>test_3</td>\n",
       "      <td>0.694907</td>\n",
       "    </tr>\n",
       "    <tr>\n",
       "      <th>4</th>\n",
       "      <td>test_4</td>\n",
       "      <td>1.331574</td>\n",
       "    </tr>\n",
       "    <tr>\n",
       "      <th>...</th>\n",
       "      <td>...</td>\n",
       "      <td>...</td>\n",
       "    </tr>\n",
       "    <tr>\n",
       "      <th>597</th>\n",
       "      <td>test_597</td>\n",
       "      <td>0.025765</td>\n",
       "    </tr>\n",
       "    <tr>\n",
       "      <th>598</th>\n",
       "      <td>test_598</td>\n",
       "      <td>0.184475</td>\n",
       "    </tr>\n",
       "    <tr>\n",
       "      <th>599</th>\n",
       "      <td>test_599</td>\n",
       "      <td>0.210558</td>\n",
       "    </tr>\n",
       "    <tr>\n",
       "      <th>600</th>\n",
       "      <td>test_600</td>\n",
       "      <td>0.677248</td>\n",
       "    </tr>\n",
       "    <tr>\n",
       "      <th>601</th>\n",
       "      <td>test_601</td>\n",
       "      <td>0.658427</td>\n",
       "    </tr>\n",
       "  </tbody>\n",
       "</table>\n",
       "<p>602 rows × 2 columns</p>\n",
       "</div>"
      ],
      "text/plain": [
       "          uid  ST1_GAP(eV)\n",
       "0      test_0     0.989016\n",
       "1      test_1     2.448923\n",
       "2      test_2     1.152864\n",
       "3      test_3     0.694907\n",
       "4      test_4     1.331574\n",
       "..        ...          ...\n",
       "597  test_597     0.025765\n",
       "598  test_598     0.184475\n",
       "599  test_599     0.210558\n",
       "600  test_600     0.677248\n",
       "601  test_601     0.658427\n",
       "\n",
       "[602 rows x 2 columns]"
      ]
     },
     "execution_count": 40,
     "metadata": {},
     "output_type": "execute_result"
    }
   ],
   "source": [
    "submission"
   ]
  },
  {
   "cell_type": "code",
   "execution_count": 41,
   "metadata": {},
   "outputs": [],
   "source": [
    "submission.to_csv('dacon_baseline.csv', index=False)"
   ]
  },
  {
   "cell_type": "markdown",
   "metadata": {},
   "source": [
    "제출 API 사용법 => https://dacon.io/forum/403557"
   ]
  },
  {
   "cell_type": "code",
   "execution_count": 43,
   "metadata": {},
   "outputs": [
    {
     "name": "stdout",
     "output_type": "stream",
     "text": [
      "{'isSubmitted': True, 'detail': 'Success'}\n"
     ]
    }
   ],
   "source": [
    "from dacon_submit_api import dacon_submit_api \n",
    "\n",
    "result = dacon_submit_api.post_submission_file(\n",
    "    'dacon_baseline.csv', \n",
    "    '개인 Token', \n",
    "    '235789', \n",
    "    'DACONIO', \n",
    "    'DACON_Baseline'\n",
    ")"
   ]
  },
  {
   "cell_type": "markdown",
   "metadata": {},
   "source": [
    "# Public LB Score : 0.1871130054"
   ]
  }
 ],
 "metadata": {
  "kernelspec": {
   "display_name": "eunil",
   "language": "python",
   "name": "eunil"
  },
  "language_info": {
   "codemirror_mode": {
    "name": "ipython",
    "version": 3
   },
   "file_extension": ".py",
   "mimetype": "text/x-python",
   "name": "python",
   "nbconvert_exporter": "python",
   "pygments_lexer": "ipython3",
   "version": "3.6.13"
  }
 },
 "nbformat": 4,
 "nbformat_minor": 4
}
